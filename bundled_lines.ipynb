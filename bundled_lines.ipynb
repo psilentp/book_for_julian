{
 "cells": [
  {
   "cell_type": "code",
   "execution_count": 1,
   "metadata": {
    "collapsed": true
   },
   "outputs": [],
   "source": [
    "import numpy as np"
   ]
  },
  {
   "cell_type": "code",
   "execution_count": 81,
   "metadata": {
    "collapsed": false
   },
   "outputs": [],
   "source": [
    "class Knott(object):\n",
    "    def __init__(self,x,y):\n",
    "        self.x = x\n",
    "        self.y = y\n",
    "        self.fx = 0\n",
    "        self.fy = 0\n",
    "        self.idx = 0\n",
    "        \n",
    "class Line(list):\n",
    "    def __init__(self,p1,p2,nknotts = 10, k = 1.0):\n",
    "        self.k = k #spring constant\n",
    "        x_array = np.linspace(p2[0],p1[0],nknotts)\n",
    "        y_array = np.linspace(p2[1],p1[1],nknotts)\n",
    "        [self.append(Knott(x,y)) for x,y in zip(x_array,y_array)]\n",
    "        \n",
    "    def plot(self):\n",
    "        plot([k.x for k in self],[k.y for k in self],'o-')\n",
    "        \n",
    "class System(object):\n",
    "    def __init__(self,lines):\n",
    "        self.last_idx = 0\n",
    "        self.idxs = set()\n",
    "        self.knott_list = list()\n",
    "        self.lines = lines\n",
    "        for line in self.lines:\n",
    "            self.add_line(line)\n",
    "        #self.distance = np.zeros(len(idxs),len(idxs))\n",
    "        #self.distance_x = np.zeros_like(self.distance)\n",
    "        #self.distance_y = np.zeros_like(self.distance)\n",
    "        x_arr = np.array([knott.x for knott in self.knott_list])\n",
    "        y_arr = np.array([knott.y for knott in self.knott_list])\n",
    "        \n",
    "        self.distance = np.sqrt(np.dot(np.array([x_arr]).T,np.array([y_arr])))\n",
    "        \n",
    "    def add_line(self,line):\n",
    "        for knott in line:\n",
    "            knott.idx = self.last_idx;self.last_idx += 1;\n",
    "            self.idxs.add(knott.idx)\n",
    "            self.knott_list.append(knott)"
   ]
  },
  {
   "cell_type": "code",
   "execution_count": 82,
   "metadata": {
    "collapsed": false
   },
   "outputs": [
    {
     "data": {
      "text/plain": [
       "[None, None]"
      ]
     },
     "execution_count": 82,
     "metadata": {},
     "output_type": "execute_result"
    },
    {
     "data": {
      "image/png": "[encoded data removed]",
      "text/plain": [
       "<matplotlib.figure.Figure at 0x10fbaaa90>"
      ]
     },
     "metadata": {},
     "output_type": "display_data"
    }
   ],
   "source": [
    "p1 = [22,39]\n",
    "p2 = [34,29]\n",
    "\n",
    "p3 = [30,43]\n",
    "p4 = [22,40]\n",
    "\n",
    "l1 = Line(p1,p2)\n",
    "l2 = Line(p3,p4)\n",
    "\n",
    "s = System([l1,l2])\n",
    "\n",
    "[l.plot() for l in s.lines]"
   ]
  },
  {
   "cell_type": "code",
   "execution_count": 83,
   "metadata": {
    "collapsed": false
   },
   "outputs": [
    {
     "data": {
      "text/plain": [
       "<matplotlib.image.AxesImage at 0x10f08b3d0>"
      ]
     },
     "execution_count": 83,
     "metadata": {},
     "output_type": "execute_result"
    },
    {
     "data": {
      "image/png": "[encoded data removed]",
      "text/plain": [
       "<matplotlib.figure.Figure at 0x10fc7d410>"
      ]
     },
     "metadata": {},
     "output_type": "display_data"
    }
   ],
   "source": [
    "imshow(s.distance,interpolation = 'none')"
   ]
  },
  {
   "cell_type": "code",
   "execution_count": 85,
   "metadata": {
    "collapsed": false
   },
   "outputs": [
    {
     "data": {
      "text/plain": [
       "31.400636936215164"
      ]
     },
     "execution_count": 85,
     "metadata": {},
     "output_type": "execute_result"
    }
   ],
   "source": [
    "s.distance[0,0]"
   ]
  },
  {
   "cell_type": "code",
   "execution_count": 92,
   "metadata": {
    "collapsed": false
   },
   "outputs": [
    {
     "data": {
      "text/plain": [
       "16.278820596099706"
      ]
     },
     "execution_count": 92,
     "metadata": {},
     "output_type": "execute_result"
    }
   ],
   "source": [
    "sqrt((l1[0].x - l2[0].x)**2+(l1[0].y - l2[0].y)**2)"
   ]
  },
  {
   "cell_type": "code",
   "execution_count": null,
   "metadata": {
    "collapsed": true
   },
   "outputs": [],
   "source": []
  }
 ],
 "metadata": {
  "kernelspec": {
   "display_name": "Python 2",
   "language": "python",
   "name": "python2"
  },
  "language_info": {
   "codemirror_mode": {
    "name": "ipython",
    "version": 2
   },
   "file_extension": ".py",
   "mimetype": "text/x-python",
   "name": "python",
   "nbconvert_exporter": "python",
   "pygments_lexer": "ipython2",
   "version": "2.7.12"
  },
  "nav_menu": {},
  "toc": {
   "navigate_menu": true,
   "number_sections": true,
   "sideBar": true,
   "threshold": 6,
   "toc_cell": false,
   "toc_section_display": "block",
   "toc_window_display": false
  },
  "widgets": {
   "state": {},
   "version": "1.1.2"
  }
 },
 "nbformat": 4,
 "nbformat_minor": 0
}
